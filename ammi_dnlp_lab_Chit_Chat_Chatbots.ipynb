{
 "cells": [
  {
   "cell_type": "markdown",
   "metadata": {
    "colab_type": "text",
    "id": "rzBHf68UXD2k"
   },
   "source": [
    "# Chit Chat Chatbots"
   ]
  },
  {
   "cell_type": "markdown",
   "metadata": {
    "colab_type": "text",
    "id": "Jm6rTDCrXJ4V"
   },
   "source": [
    "In the previous lab, we explored models that try to answer questions by reasoning over free-text input. In this lab, we will explore two types of models to create chatbots.\n",
    "\n",
    "First, let's consider important qualities for a chit-chat chatbot system\n",
    "\n",
    "\n",
    "1.   **Readability** - whatever model we use, the chats it creates should be easily understood by humans\n",
    "2.   **Consistency** - when chatting with a chatbot, the bot should maintain consistent information. Imagine a bot that says \"Hi I'm Jack'' and then \"Hello, my name is Jane\" - quite confusing\n",
    "3.    **Engaging** - To encourage users to talk to the bot, the bot should be able to generate interesting, engaging responses. If the only response was \"wow, that's cool,\" users are quite unlikely to want to talk very much to the chat bot\n",
    "\n"
   ]
  },
  {
   "cell_type": "code",
   "execution_count": 0,
   "metadata": {
    "colab": {},
    "colab_type": "code",
    "collapsed": true,
    "id": "LrYcmfoI5PWO"
   },
   "outputs": [],
   "source": [
    "%%html\n",
    "<p style='color: blue;'>\n",
    "  Throughout the lab, there will be <b>questions</b> you should answer. <b>All questions you need to write an answer to will be in this blue color.</b>\n",
    "  \n",
    "  <br>Please write brief answers- no need for long explanations. \n",
    "  <br>There can be multiple correct answers to the questions.\n",
    "  \n",
    "  <br><br>The goal of these questions is to:\n",
    "  <ul style='color: green;'>\n",
    "    <li> Review the lecture material in the context of practical models and develop intuition about the models\n",
    "    <li> Develop a sense of experimentation - we will pretend we have a dataset and will walk through an experimental thought process.\n",
    "  </ul>\n",
    "\n",
    "<b>We are going to do the lab as a group. <br>I will explain the sections in more depth, as we did not cover dialogue deeply during the lecture. <br> After we discuss, I will provide time for you to write a few sentences. At the end of the lab, you will hand it in. In theory, everyone should be finished together!</b>\n",
    "\n",
    "  \n",
    "</p>"
   ]
  },
  {
   "cell_type": "markdown",
   "metadata": {
    "colab_type": "text",
    "id": "C3zg0WczXjDs"
   },
   "source": [
    "## Data"
   ]
  },
  {
   "cell_type": "markdown",
   "metadata": {
    "colab_type": "text",
    "id": "kguDIJbLXmZU"
   },
   "source": [
    "The dataset we will use for this lab is called `PersonaChat` - it was created to directly address problem 2. Each person talking in the dataset has a personality, which helps maintain consistency in the dialogue. We saw it last week in the tutorials as well (when you worked through beam search)"
   ]
  },
  {
   "cell_type": "code",
   "execution_count": 4,
   "metadata": {
    "colab": {
     "base_uri": "https://localhost:8080/",
     "height": 35
    },
    "colab_type": "code",
    "collapsed": false,
    "id": "RpvTb8bBX40A",
    "outputId": "bdad1ad4-fdb4-474e-fd0d-ac500ede7267"
   },
   "outputs": [
    {
     "name": "stdout",
     "output_type": "stream",
     "text": [
      "fatal: destination path '/root/ParlAI' already exists and is not an empty directory.\n"
     ]
    }
   ],
   "source": [
    "!git clone https://github.com/facebookresearch/ParlAI.git ~/ParlAI  > /dev/null\n",
    "!cd ~/ParlAI; python3 setup.py develop > /dev/null"
   ]
  },
  {
   "cell_type": "markdown",
   "metadata": {
    "colab_type": "text",
    "id": "3OJJ-L5RCyYT"
   },
   "source": [
    "**Example: **\n",
    "\n",
    "your persona: i just started college.\n",
    "\n",
    "your persona: i have 3 science classes.\n",
    "\n",
    "your persona: i work part time in the campus library.\n",
    "\n",
    "your persona: i am living at home but hope to live in the dorms next year.\n",
    "\n",
    "**Partner Dialogue**: hi how are you doing\n",
    "\n",
    "**Your Response**: great ! just got off work and relaxing before i study"
   ]
  },
  {
   "cell_type": "code",
   "execution_count": 5,
   "metadata": {
    "colab": {
     "base_uri": "https://localhost:8080/",
     "height": 1681
    },
    "colab_type": "code",
    "collapsed": false,
    "id": "Oe72XiqFXCS0",
    "outputId": "dd1a0080-056b-4031-acec-6c3f350551e6"
   },
   "outputs": [
    {
     "name": "stdout",
     "output_type": "stream",
     "text": [
      "[ optional arguments: ] \n",
      "[  display_ignore_fields: agent_reply ]\n",
      "[  max_display_len: 1000 ]\n",
      "[  num_examples: 10 ]\n",
      "[ Main ParlAI Arguments: ] \n",
      "[  batchsize: 1 ]\n",
      "[  datapath: /root/ParlAI/data ]\n",
      "[  datatype: train ]\n",
      "[  download_path: /root/ParlAI/downloads ]\n",
      "[  hide_labels: False ]\n",
      "[  image_mode: raw ]\n",
      "[  multitask_weights: [1] ]\n",
      "[  numthreads: 1 ]\n",
      "[  show_advanced_args: False ]\n",
      "[  task: personachat ]\n",
      "[ ParlAI Model Arguments: ] \n",
      "[  dict_class: None ]\n",
      "[  init_model: None ]\n",
      "[  model: None ]\n",
      "[  model_file: None ]\n",
      "[ PytorchData Arguments: ] \n",
      "[  batch_length_range: 5 ]\n",
      "[  batch_sort_cache_type: pop ]\n",
      "[  batch_sort_field: text ]\n",
      "[  numworkers: 4 ]\n",
      "[  pytorch_context_length: -1 ]\n",
      "[  pytorch_datapath: None ]\n",
      "[  pytorch_include_labels: True ]\n",
      "[  pytorch_preprocess: False ]\n",
      "[  pytorch_teacher_batch_sort: False ]\n",
      "[  pytorch_teacher_dataset: None ]\n",
      "[  pytorch_teacher_task: None ]\n",
      "[  shuffle: False ]\n",
      "[ ParlAI Image Preprocessing Arguments: ] \n",
      "[  image_cropsize: 224 ]\n",
      "[  image_size: 256 ]\n",
      "[creating task(s): personachat]\n",
      "[building data: /root/ParlAI/data/Persona-Chat]\n",
      "[ downloading: http://parl.ai/downloads/personachat/personachat.tgz to /root/ParlAI/data/Persona-Chat/personachat.tgz ]\n",
      "Downloading personachat.tgz: 100% 223M/223M [00:02<00:00, 92.4MB/s]\n",
      "unpacking personachat.tgz\n",
      "[loading fbdialog data:/root/ParlAI/data/Persona-Chat/personachat/train_self_original.txt]\n",
      "[personachat]: your persona: i just started college.\n",
      "your persona: i have 3 science classes.\n",
      "your persona: i work part time in the campus library.\n",
      "your persona: i am living at home but hope to live in the dorms next year.\n",
      "hi how are you doing\n",
      "[label_candidates: yea . the piano . before i graduated college .|yes . very warm . i love it .|nice meeting you , spend as much time at home now that you can , i wish i could .|he was . he was my favorite artist .|i was . she was an addict though . love hate relationship . in the strongest way|...and 15 more]\n",
      "[labels: great ! just got off work and relaxing before i study]\n",
      "~~\n",
      "[personachat]: nice where do you work\n",
      "[label_candidates: that is amazing to hear . i like to run with my dogs .|i did not it was so yucky out|not too bad so far|i am a bowler and professional one and i have two kids and you ?|yes it could , i am always sad ugh , how are you ?|...and 15 more]\n",
      "[labels: the library on campus , it is part time but really peaceful and easy]\n",
      "~~\n",
      "[personachat]: that is cool i just live off my girlfriends salary\n",
      "[label_candidates: i wish i knew how to play .|hey , they call me blue eyes . do you have a nickname ?|are you going to cook for me ?|no i am currently taking my boards for pharmacy .|they can come too . the more the merrier .|...and 15 more]\n",
      "[labels: i live at home , next year i want to move on campus though]\n",
      "~~\n",
      "[personachat]: that is cool do you like to cook\n",
      "[label_candidates: i am doing well do you like music ?|i will check them out . i am really going to miss my sister when i move .|were they really ? i did not know that . i love to learn .|hi . i am alright . what do you like to do ? i am a writer .|me and my parents and brother moved here !|...and 15 more]\n",
      "[labels: i do , i make this one dish with pork marinated in catalina dressing , its good]\n",
      "~~\n",
      "[personachat]: that sounds so interesting i like to cook brunch on the weekends\n",
      "[label_candidates: wow that is interesting to hear|me too ! what do you do for a living ? i am in finance .|helping people . i guess that is why i am a nurse .|i enjoy going to park and bird watching . love country music|its not as fun as biking , but it pays the bills .|...and 15 more]\n",
      "[labels: i do not cook a lot . this semester i have 3 different science classes]\n",
      "~~\n",
      "[personachat]: wow is that your major ?\n",
      "[label_candidates: willie nelson , hank williams iii . . . . all the usual stuff . . . plus thrash metal from norway|very short . under 5 feet tall . trying to lose another 20 pounds ! it is hard !|new england is a beautiful place to grow up . i work in connecticut now . nice weather .|for what ? i know oliva pope personally . i have not been on a boat ever ? you ?|what do you do for a living ?|...and 15 more]\n",
      "[labels: chemistry , but have a minor in biology]\n",
      "~~\n",
      "[personachat]: wow what do you want to do after school\n",
      "[label_candidates: i have written several romance novels under a different name . . . .|do you have any pets ? my dog , socks , lives at my parents house .|what reality show do you like ? i am going to fail math because of dungeons and dragons .|shopping . it is like my passion .|i drop off baking goods in my state where i reside .|...and 15 more]\n",
      "[labels: ideally i want to work for an energy company working on new energy and fuel sources]\n",
      "~~\n",
      "[personachat]: cool i wish i knew more about science\n",
      "[label_candidates: i have three , and am named for my grandmother .|exactleee . . oops i am not great at spelling|black i guess . what about you ?|yes and sunset also is a good time|oh . i eat about anything .|...and 15 more]\n",
      "[labels: it is difficult but i do enjoy it , just takes a lot of studying]\n",
      "- - - - - - - - - - - - - - - - - - - - -\n",
      "~~\n",
      "[personachat]: your persona: i have borderline personality disorder.\n",
      "your persona: it is my universe , and everyone else is just a character in it.\n",
      "your persona: i work as a dental assistant in a ritzy part of town.\n",
      "your persona: at night , i party hard in the atlanta club scene , and i never miss a music festival.\n",
      "how are you doing today ?\n",
      "[label_candidates: i am less afraid to drive as i am terrified of clowns though .|hi how are you today|rap and r b , i hate country tho|maybe you should find a job , i am looking for one , but nba is fun too|you must be a grown up .|...and 15 more]\n",
      "[labels: great ! just got back from some dbt therapy . it really helps me]\n",
      "~~\n",
      "[personachat]: what is that ? i am not familiar .\n",
      "[label_candidates: i have to hurry and clean up this mess if we are going to go out .|yes they are confused but not about being a boy or girl|princess from mario . what is your favorite song ?|i love texas i am going to live in australia next year for my boyfriend|wow that sounds interesting , my addiction to black coffee is out of control .|...and 15 more]\n",
      "[labels: dialectical behavioral therapy . i use it to help with my borderline personality]\n",
      "~~\n",
      "[ loaded 8939 episodes with a total of 65719 examples ]\n"
     ]
    }
   ],
   "source": [
    "# let's download and take a look at some examples of data in PersonaChat\n",
    "!python ~/ParlAI/examples/display_data.py --task personachat --datatype train"
   ]
  },
  {
   "cell_type": "code",
   "execution_count": 7,
   "metadata": {
    "colab": {
     "base_uri": "https://localhost:8080/",
     "height": 104
    },
    "colab_type": "code",
    "collapsed": false,
    "id": "V3Ob4tEt1vNP",
    "outputId": "a8ded55a-bbb0-406e-8a32-50930986d736"
   },
   "outputs": [
    {
     "data": {
      "text/html": [
       "<p style='color: blue;'>\n",
       "  <b>Questions:</b>\n",
       "  <ul style='color: blue;'>\n",
       "    <li>What do the personalities look like?</li>\n",
       "    <li>How does creating bots with these simple personalities address consistency for chatbots? </li>\n",
       "    <li>What are some drawbacks/limitations of these specific personalities for addressing the problem of consistency?</li>\n",
       "  </ul>\n",
       "</p>"
      ],
      "text/plain": [
       "<IPython.core.display.HTML object>"
      ]
     },
     "metadata": {
      "tags": []
     },
     "output_type": "display_data"
    }
   ],
   "source": [
    "%%html\n",
    "<p style='color: blue;'>\n",
    "  <b>Questions:</b>\n",
    "  <ul style='color: blue;'>\n",
    "    <li>What do the personalities look like?</li>\n",
    "    <li>How does creating bots with these simple personalities address consistency for chatbots? </li>\n",
    "    <li>What are some drawbacks/limitations of these specific personalities for addressing the problem of consistency?</li>\n",
    "  </ul>\n",
    "</p>"
   ]
  },
  {
   "cell_type": "markdown",
   "metadata": {
    "colab_type": "text",
    "id": "TrNVHEzYZ9oZ"
   },
   "source": [
    "Question Answer:\n",
    "- Personalities : personalities are sperciific and  conversation are very short.\n",
    "- For chatbots, the creating bots with these simple personnalities address consistency we just add the number of personalities and we will have the information on the personalities.\n",
    "-  Some drawbacks/ limitations of these specifique personnalities are that they not have enough data \n"
   ]
  },
  {
   "cell_type": "markdown",
   "metadata": {
    "colab_type": "text",
    "id": "Kyhri6NvYKda"
   },
   "source": [
    "\n",
    "\n",
    "---\n",
    "\n",
    "\n",
    "***Let's understand how much data we have. Let's compute the following using ParlAI:***\n",
    "\n",
    "\n",
    "1.   **How many turns of data do we have?** In dialogue datasets, \"amount of data\" is measured in dialogue turns. Each time there is a single line of dialogue, that is called a \"turn\"\n",
    "2.   **On average, how many words form a model input?**\n",
    "\n",
    "\n",
    "---\n",
    "\n",
    "\n"
   ]
  },
  {
   "cell_type": "code",
   "execution_count": 0,
   "metadata": {
    "colab": {
     "base_uri": "https://localhost:8080/",
     "height": 445
    },
    "colab_type": "code",
    "collapsed": false,
    "id": "30SF6hN6DAjD",
    "outputId": "e938b62b-5924-4af0-b1d1-6025d7b4628a"
   },
   "outputs": [
    {
     "name": "stdout",
     "output_type": "stream",
     "text": [
      "[ note: changing datatype from train to train:ordered ]\n",
      "[creating task(s): personachat]\n",
      "[loading fbdialog data:/root/ParlAI/data/Persona-Chat/personachat/train_self_original.txt]\n",
      "[ loaded 8939 episodes with a total of 65719 examples ]\n",
      "24s elapsed: {'exs': 65719, '%done': '100.00%', 'time_left': '0s', 'stats': '\n",
      "input:\n",
      "   utterances: 65719\n",
      "   avg utterance length: 18.356974390967604\n",
      "   tokens: 1206402\n",
      "   unique tokens: 14209\n",
      "   unique utterances: 64580\n",
      "labels:\n",
      "   utterances: 65719\n",
      "   avg utterance length: 11.929411585690591\n",
      "   tokens: 783989\n",
      "   unique tokens: 14507\n",
      "   unique utterances: 64119\n",
      "both:\n",
      "   utterances: 131438\n",
      "   avg utterance length: 15.143192988329098\n",
      "   tokens: 1990391\n",
      "   unique tokens: 18741\n",
      "   unique utterances: 128197\n",
      "'}\n"
     ]
    }
   ],
   "source": [
    "!python ~/ParlAI/parlai/scripts/data_stats.py -t personachat -dt train -ltim 10000"
   ]
  },
  {
   "cell_type": "markdown",
   "metadata": {
    "colab_type": "text",
    "id": "0vwk7krxU57M"
   },
   "source": [
    "## Evaluation\n",
    "\n",
    "How are dialogue models evaluated?\n",
    "\n",
    "\n",
    "\n",
    "1.   **Automatic Evaluation**: Hits @ 1, Hits @ 5, Hits @ 10, F1\n",
    "2.   **Human Evaluation**: Pairing Selection, Human Rating\n",
    "\n"
   ]
  },
  {
   "cell_type": "code",
   "execution_count": 0,
   "metadata": {
    "colab": {
     "base_uri": "https://localhost:8080/",
     "height": 69
    },
    "colab_type": "code",
    "collapsed": false,
    "id": "pGI2fFPLVRSJ",
    "outputId": "283cb271-fea5-415b-a4f3-402fad7282bf"
   },
   "outputs": [
    {
     "data": {
      "text/html": [
       "<p style='color: blue;'>\n",
       "  <b>Questions:</b>\n",
       "  <ul style='color: blue;'>\n",
       "    <li>Take some notes about what these metrics are and what they mean here</li>\n",
       "  </ul>\n",
       "</p>"
      ],
      "text/plain": [
       "<IPython.core.display.HTML object>"
      ]
     },
     "metadata": {
      "tags": []
     },
     "output_type": "display_data"
    }
   ],
   "source": [
    "%%html\n",
    "<p style='color: blue;'>\n",
    "  <b>Questions:</b>\n",
    "  <ul style='color: blue;'>\n",
    "    <li>Take some notes about what these metrics are and what they mean here</li>\n",
    "  </ul>\n",
    "</p>"
   ]
  },
  {
   "cell_type": "markdown",
   "metadata": {
    "colab_type": "text",
    "id": "OvyOA8rAKlsg"
   },
   "source": [
    "1- Aumatic Evaluation\n",
    "\n",
    "- Hit@1 : consiste of rating the perfomance of the model according to the candidate and this one looks at the first answer of the model\n",
    "- Hit@5: looks if the predicted solution is within the first five answer of the model\n",
    "- Hit@10: takes  the first ten candidate answer of the model and check if the prediction is whin those candidate\n",
    "- F1: measure the level of veracity of the answers\n",
    "\n",
    "2- Humain Evaluation\n",
    "- Pairing Selection : compare two models according to the prediction.\n",
    "- Human Rating: Is given the score according to how good is the model by looking to the predicted answer and the ground truth."
   ]
  },
  {
   "cell_type": "markdown",
   "metadata": {
    "colab_type": "text",
    "id": "KpkwidfAZ_7p"
   },
   "source": [
    "## Models"
   ]
  },
  {
   "cell_type": "markdown",
   "metadata": {
    "colab_type": "text",
    "id": "YuqnjqxbZ_W2"
   },
   "source": [
    "There are two main kinds of dialogue models. \n",
    "\n",
    "*Retrieval* Models analyze the current dialogue context and try to find appropriate responses in the dataset.\n",
    "\n",
    "*Generative* Models analyze the current dialogue context\n",
    "and try to write an answer, word by word, from left to right.\n",
    "This can be thought of as an application of sequence-to-sequence models,  where the \"encoder side\" is the dialogue history and the \"decoder side\" is the dialogue response your chatbot should generate."
   ]
  },
  {
   "cell_type": "code",
   "execution_count": 0,
   "metadata": {
    "colab": {
     "base_uri": "https://localhost:8080/",
     "height": 143
    },
    "colab_type": "code",
    "collapsed": false,
    "id": "JPRp1MlH3n0h",
    "outputId": "9efcbe84-f3b4-4da6-da7f-3ef3e1f258d0"
   },
   "outputs": [
    {
     "data": {
      "text/html": [
       "<p style='color: blue;'>\n",
       "  <b>Questions:</b>\n",
       "  <ul style='color: blue;'>\n",
       "    <li>Let's discuss the pros/cons of retrieval compared to generative models - Are there settings when you might want to use one over the other?</li>\n",
       "    <li>Compare a chit-chat application to something like booking a movie ticket- would you want to use generative, retrieval, or something else to accomplish that task? Why?</li>\n",
       "    <li>How can you evaluate generative models with the metrics we discussed before? How do you think they will perform compared to retrieval models?</li>\n",
       "    <li>In lecture, Antoine mentioned issues with generative model generation being generic and short. How does this happen in beam search?</li>\n",
       "</ul>\n",
       "\n",
       "<b> If you would like me to discuss how to actually use generative models in dialog, please say something! Otherwise, we will skip.</b>\n",
       "</p>"
      ],
      "text/plain": [
       "<IPython.core.display.HTML object>"
      ]
     },
     "metadata": {
      "tags": []
     },
     "output_type": "display_data"
    }
   ],
   "source": [
    "%%html\n",
    "<p style='color: blue;'>\n",
    "  <b>Questions:</b>\n",
    "  <ul style='color: blue;'>\n",
    "    <li>Let's discuss the pros/cons of retrieval compared to generative models - Are there settings when you might want to use one over the other?</li>\n",
    "    <li>Compare a chit-chat application to something like booking a movie ticket- would you want to use generative, retrieval, or something else to accomplish that task? Why?</li>\n",
    "    <li>How can you evaluate generative models with the metrics we discussed before? How do you think they will perform compared to retrieval models?</li>\n",
    "    <li>In lecture, Antoine mentioned issues with generative model generation being generic and short. How does this happen in beam search?</li>\n",
    "</ul>\n",
    "\n",
    "<b> If you would like me to discuss how to actually use generative models in dialog, please say something! Otherwise, we will skip.</b>\n",
    "</p>"
   ]
  },
  {
   "cell_type": "markdown",
   "metadata": {
    "colab_type": "text",
    "id": "2ipkNg9SkGjf"
   },
   "source": [
    "-   Pros of Retrieval Models: In case of the current  dialog context the reponse is approprioate in the dataset. The cons is that, in the case of different dialog context the reponse is not appropriate in the dataset and the Model will not known how to give the appropriate reponse. \n",
    "Pros Generative Models: In the case of current dialog context the answer will have the same word in the context. The cons is that, in this case of Generative Models , the Model will try to give a reponse. If the test set is not the same like a trainning test is it good to use generative model.\n",
    "-  To compare a chit-chat application to something like booking a movie ticket, to accomplish that task I would want to use retrieval because I would like that the model give the good reponse.\n"
   ]
  },
  {
   "cell_type": "markdown",
   "metadata": {
    "colab_type": "text",
    "id": "D_99CoAwaW2w"
   },
   "source": [
    "### Retrieval Models"
   ]
  },
  {
   "cell_type": "code",
   "execution_count": 0,
   "metadata": {
    "colab": {},
    "colab_type": "code",
    "collapsed": true,
    "id": "vRSLygFrVBNr"
   },
   "outputs": [],
   "source": []
  },
  {
   "cell_type": "markdown",
   "metadata": {
    "colab_type": "text",
    "id": "BAfk4Km8bY_Y"
   },
   "source": [
    "Let's train a model to do retrieval first. We will try the *Memory Net.* "
   ]
  },
  {
   "cell_type": "code",
   "execution_count": 0,
   "metadata": {
    "colab": {},
    "colab_type": "code",
    "collapsed": true,
    "id": "EyNOObOkbYTQ"
   },
   "outputs": [],
   "source": [
    "# We can train a model with the following command: \n",
    "# !python ~/ParlAI/examples/train_model.py -m kv_memnn -t personachat -dt train -veps 0.25 --model-file persona_chat_retrieval_model -vmt accuracy\n",
    "\n",
    "# but we have limited time in the tutorial, so let's use an already pretrained model"
   ]
  },
  {
   "cell_type": "markdown",
   "metadata": {
    "colab_type": "text",
    "id": "gylhJvZwa0Vp"
   },
   "source": [
    "Quick Parameter Refresher:\n",
    "\n",
    "\n",
    "*  `-m ` means which model we're going to use. Recall retrieval models are trained to rank the true response higher over a set of potential responses from the dataset (in ParlAI, these are called the \"label candidates\"). When it's time to write a dialogue response, the retrieval model returns the response that is ranked the highest\n",
    "*  -`t` refers to the task. Here, we are training on PersonaChat data.\n",
    "* `-dt` refers to the data split. We want to train our model, so we are using the training set.\n",
    "* `-veps` refers to how often we should evaluate during training, our performance on validation. recall this is important because models, particularly neural ones, have the capacity to memorize the training dataset. So it's important to check how the model is doing on the validation set.\n",
    "* `--model-file` refers to when your model is saved, what should the filename be\n",
    "*  `-vmt` refers to the metric which we'll use to decide which model is the best. We'll cover this in the next section\n",
    "\n",
    "\n",
    "\n"
   ]
  },
  {
   "cell_type": "markdown",
   "metadata": {
    "colab_type": "text",
    "id": "W6wdfxEccAAp"
   },
   "source": [
    "**Let's interact with the model to get a sense of what it's learning. **How is this chat going to work?\n",
    "\n",
    "\n",
    "\n",
    "1.   You will be assigned a persona. You will chat to the model by typing in the chat box.\n",
    "2.   The chatbot also has a persona. It's secret and hidden from you!\n",
    "3.   When you've finished chatting with this bot, type [DONE] and a new model persona will be assigned to the bot, so you can talk to a new bot. \n",
    "4.   When you move on to the next chatbot persona, the previous persona will be revealed. \n",
    "\n",
    "Interact with the chatbots and the personas. **Try to think about the following:**\n",
    "\n",
    "*   Do the chatbots follow their persona a lot?\n",
    "*   Was it difficult to follow your persona?\n",
    "\n",
    "\n",
    "\n"
   ]
  },
  {
   "cell_type": "code",
   "execution_count": 0,
   "metadata": {
    "colab": {
     "base_uri": "https://localhost:8080/",
     "height": 1999
    },
    "colab_type": "code",
    "collapsed": false,
    "id": "XdyaEgpcI7UL",
    "outputId": "60f9c63c-4bcf-4c85-cf49-9989e3b46d8f"
   },
   "outputs": [
    {
     "name": "stdout",
     "output_type": "stream",
     "text": [
      "[building data: /root/ParlAI/data/models/convai2/kvmemnn/kvmemnn.tgz]\n",
      "[ downloading: http://parl.ai/downloads/_models/convai2/kvmemnn.tgz to /root/ParlAI/data/models/convai2/kvmemnn/kvmemnn.tgz ]\n",
      "Downloading kvmemnn.tgz: 100% 173M/173M [00:01<00:00, 131MB/s] \n",
      "unpacking kvmemnn.tgz\n",
      "[ warning: overriding opt['model_file'] to /root/ParlAI/data/models/convai2/kvmemnn/model (previously: /checkpoint/jase/20180328/kvmemnn_sweep10/persona-self_rephraseTrn-True_rephraseTst-False_lr-0.1_esz-2000_margin-0.1_tfidf-False_shareEmb-True_hops1_lins0/model )]\n",
      "[ creating KvmemnnAgent ]\n",
      "Dictionary: loading dictionary from /root/ParlAI/data/models/convai2/kvmemnn/model.dict\n",
      "[ num words =  19153 ]\n",
      "Loading existing model params from /root/ParlAI/data/models/convai2/kvmemnn/model\n",
      "[loading candidates: /root/ParlAI/data/models/convai2/kvmemnn/model.candspair*]\n",
      "[caching..]\n",
      "=init done=\n",
      "/usr/local/lib/python3.6/dist-packages/torch/nn/_reduction.py:49: UserWarning: size_average and reduce args will be deprecated, please use reduction='sum' instead.\n",
      "  warnings.warn(warning.format(ret))\n",
      "[creating task(s): parlai.agents.local_human.local_human:LocalHumanAgent]\n",
      "[ optional arguments: ] \n",
      "[  display_examples: False ]\n",
      "[  display_ignore_fields: label_candidates,text_candidates ]\n",
      "[  display_prettify: False ]\n",
      "[ Main ParlAI Arguments: ] \n",
      "[  batchsize: 1 ]\n",
      "[  datapath: /private/home/jase/src/ParlAI/data ]\n",
      "[  datatype: train ]\n",
      "[  download_path: /private/home/jase/src/ParlAI/downloads ]\n",
      "[  hide_labels: False ]\n",
      "[  image_mode: raw ]\n",
      "[  multitask_weights: [1] ]\n",
      "[  numthreads: 40 ]\n",
      "[  show_advanced_args: False ]\n",
      "[  task: convai2:SelfRevisedTeacher ]\n",
      "[ ParlAI Model Arguments: ] \n",
      "[  dict_class: parlai.core.dict:DictionaryAgent ]\n",
      "[  init_model: None ]\n",
      "[  model: projects.personachat.kvmemnn.kvmemnn:KvmemnnAgent ]\n",
      "[  model_file: /root/ParlAI/data/models/convai2/kvmemnn/model ]\n",
      "[ Local Human Arguments: ] \n",
      "[  local_human_candidates_file: None ]\n",
      "[  single_turn: False ]\n",
      "[ ParlAI Image Preprocessing Arguments: ] \n",
      "[  image_cropsize: 224 ]\n",
      "[  image_size: 256 ]\n",
      "[ Dictionary Arguments: ] \n",
      "[  bpe_debug: False ]\n",
      "[  dict_endtoken: __END__ ]\n",
      "[  dict_file: /root/ParlAI/data/models/convai2/kvmemnn/model.dict ]\n",
      "[  dict_initpath: None ]\n",
      "[  dict_language: english ]\n",
      "[  dict_lower: False ]\n",
      "[  dict_max_ngram_size: -1 ]\n",
      "[  dict_maxtokens: -1 ]\n",
      "[  dict_minfreq: 0 ]\n",
      "[  dict_nulltoken: __NULL__ ]\n",
      "[  dict_starttoken: __START__ ]\n",
      "[  dict_textfields: text,labels ]\n",
      "[  dict_tokenizer: split ]\n",
      "[  dict_unktoken: __UNK__ ]\n",
      "[ Kvmemnn Arguments: ] \n",
      "[  cache_size: 1000 ]\n",
      "[  embeddingnorm: 10 ]\n",
      "[  embeddingsize: 2000 ]\n",
      "[  history_length: 100 ]\n",
      "[  history_replies: label ]\n",
      "[  hops: 1 ]\n",
      "[  interactive_mode: False ]\n",
      "[  kvmemnn_debug: False ]\n",
      "[  learningrate: 0.1 ]\n",
      "[  lins: 0 ]\n",
      "[  loadcands: True ]\n",
      "[  loss: cosine ]\n",
      "[  margin: 0.1 ]\n",
      "[  neg_samples: 10 ]\n",
      "[  optimizer: sgd ]\n",
      "[  parrot_neg: 0 ]\n",
      "[  share_embeddings: True ]\n",
      "[  take_next_utt: False ]\n",
      "[  tfidf: False ]\n",
      "[  truncate: -1 ]\n",
      "[  twohop_blend: 0 ]\n",
      "[  twohop_range: 100 ]\n",
      "[creating task(s): convai2:both]\n",
      "[building data: /root/ParlAI/data/ConvAI2]\n",
      "[ downloading: http://parl.ai/downloads/convai2/convai2_fix_723.tgz to /root/ParlAI/data/ConvAI2/convai2_fix_723.tgz ]\n",
      "Downloading convai2_fix_723.tgz: 100% 430M/430M [00:02<00:00, 150MB/s]\n",
      "unpacking convai2_fix_723.tgz\n",
      "[loading fbdialog data:/root/ParlAI/data/ConvAI2/train_both_original.txt]\n",
      "your persona: my favorite is rock fish.\n",
      "your persona: i m going riding on my boat today.\n",
      "your persona: i love tuna.\n",
      "your persona: i live in cape hatteras.\n",
      "your persona: i'm a fisherman.\n",
      "Enter [DONE] if you want a new partner at any time.\n",
      "Enter Your Message: DONE\n",
      "my mother works as a ballet dancer . she gets her nails done too .\n",
      "Enter Your Message: Done\n",
      "what did you make ? do you cook alot ?\n",
      "Enter Your Message: No\n",
      "i do not either . is there any special dishes you like to cook on sundays ?\n",
      "Enter Your Message: no\n",
      "oh , i am so sorry to hear that\n",
      "Enter Your Message: is ok\n",
      "i am good , thanks . does the pot make you feel hungry ?\n",
      "Enter Your Message: no\n",
      "oh . i am in high school . i am working on math now . thankfully its my favorite subject .\n",
      "Enter Your Message: ok\n",
      "i find attractive all women from canada\n",
      "Enter Your Message: good\n",
      "good , my daughter is napping so i am shopping online . might go swimming today\n",
      "Enter Your Message: "
     ]
    }
   ],
   "source": [
    "!python ~/ParlAI/projects/convai2/interactive.py -mf models:convai2/kvmemnn/model"
   ]
  },
  {
   "cell_type": "code",
   "execution_count": 0,
   "metadata": {
    "colab": {
     "base_uri": "https://localhost:8080/",
     "height": 103
    },
    "colab_type": "code",
    "collapsed": false,
    "id": "hNbf3YEp31Z0",
    "outputId": "6007cf86-a3e9-48ec-a543-4a39b0db0fb6"
   },
   "outputs": [
    {
     "data": {
      "text/html": [
       "<p style='color: blue;'>\n",
       "  <b>Questions:</b>\n",
       "  <ul style='color: blue;'>\n",
       "    <li>What does this model seem to be doing well? What is it doing poorly? </li>\n",
       "    <li>Why might it be performing poorly? What kind of experiment could you design to test your hypothesis?</li>\n",
       "    <li>How do we know if we need to use a more complex model? Would we always want to use a more complex model? Why or why not?</li>\n",
       "  </ul>\n",
       "</p>"
      ],
      "text/plain": [
       "<IPython.core.display.HTML object>"
      ]
     },
     "metadata": {
      "tags": []
     },
     "output_type": "display_data"
    }
   ],
   "source": [
    "%%html\n",
    "<p style='color: blue;'>\n",
    "  <b>Questions:</b>\n",
    "  <ul style='color: blue;'>\n",
    "    <li>What does this model seem to be doing well? What is it doing poorly? </li>\n",
    "    <li>Why might it be performing poorly? What kind of experiment could you design to test your hypothesis?</li>\n",
    "    <li>How do we know if we need to use a more complex model? Would we always want to use a more complex model? Why or why not?</li>\n",
    "  </ul>\n",
    "</p>"
   ]
  },
  {
   "cell_type": "code",
   "execution_count": 0,
   "metadata": {
    "colab": {},
    "colab_type": "code",
    "collapsed": true,
    "id": "t_SYFM2UaUuq"
   },
   "outputs": [],
   "source": [
    "# Here is a command to train a Transformer Ranker model if you would like to try it out\n",
    "# !python ~/ParlAI/examples/train_model.py -m transformer/ranker -t personachat -dt train -veps 0.25 --model-file persona_chat_retrieval_model -vmt accuracy"
   ]
  },
  {
   "cell_type": "markdown",
   "metadata": {
    "colab_type": "text",
    "id": "Kd7Sfurfdc_3"
   },
   "source": [
    "\n",
    "\n",
    "---\n",
    "\n",
    "\n",
    "An important aspect of training models is analyzing them. ***Try to answer the following questions.*** \n",
    "\n",
    "---\n",
    "\n",
    "\n"
   ]
  },
  {
   "cell_type": "code",
   "execution_count": 0,
   "metadata": {
    "colab": {
     "base_uri": "https://localhost:8080/",
     "height": 160
    },
    "colab_type": "code",
    "collapsed": false,
    "id": "-1pAkQdt4n5_",
    "outputId": "c3c9f03a-4187-41c1-d0c7-626b66557a27"
   },
   "outputs": [
    {
     "data": {
      "text/html": [
       "<p style='color: blue;'>\n",
       "  <b>Questions:</b>\n",
       "  <ul style='color: blue;'>\n",
       "    <li>Are the models using the persona that we have provided? How can you tell? If I asked you to prove it to me, what experiments could you conduct? </li>\n",
       "    <li>Previously, we computed some statistics about how long the persona is in the training data. The model has also only seen words present in the training dataset. But what happens if you push the model outside of what data it's been trained on? What kind of performance do you get? Why does this happen, and what could you do if you wanted to improve the model's ability to generalize? </li>\n",
       "    <li>In ParlAI, we've set the parameters to save the model's best performance based on validation accuracy. What would happen if we saved the model based on the best training accuracy? Why does this happen? (if you like, try this out on your own and see the effect when you interact with the bot)</li>\n",
       "  </ul>\n",
       "\n",
       "<b> If you would like me to discuss how to use BERT in dialog, please say something! Otherwise, we will skip.</b>\n",
       "</p>"
      ],
      "text/plain": [
       "<IPython.core.display.HTML object>"
      ]
     },
     "metadata": {
      "tags": []
     },
     "output_type": "display_data"
    }
   ],
   "source": [
    "%%html\n",
    "<p style='color: blue;'>\n",
    "  <b>Questions:</b>\n",
    "  <ul style='color: blue;'>\n",
    "    <li>Are the models using the persona that we have provided? How can you tell? If I asked you to prove it to me, what experiments could you conduct? </li>\n",
    "    <li>Previously, we computed some statistics about how long the persona is in the training data. The model has also only seen words present in the training dataset. But what happens if you push the model outside of what data it's been trained on? What kind of performance do you get? Why does this happen, and what could you do if you wanted to improve the model's ability to generalize? </li>\n",
    "    <li>In ParlAI, we've set the parameters to save the model's best performance based on validation accuracy. What would happen if we saved the model based on the best training accuracy? Why does this happen? (if you like, try this out on your own and see the effect when you interact with the bot)</li>\n",
    "  </ul>\n",
    "\n",
    "<b> If you would like me to discuss how to use BERT in dialog, please say something! Otherwise, we will skip.</b>\n",
    "</p>"
   ]
  },
  {
   "cell_type": "markdown",
   "metadata": {
    "colab_type": "text",
    "id": "eTHItY-QdNtw"
   },
   "source": [
    "### [for self exploration] Generative Models"
   ]
  },
  {
   "cell_type": "markdown",
   "metadata": {
    "colab_type": "text",
    "id": "GM6LaBzbe6Za"
   },
   "source": [
    "Generative models must produce word for word what they are going to say next in the dialogue. When predicting the next word, it produces a probability distribution over the entire vocabulary space for which word to generate next. To reduce the vocabulary space, we will use **byte-pair encoding** (BPE). \n",
    "\n",
    "*How does BPE work?* The BPE algorithm takes as input the training data and the number of *operations* it can do. It passes over the training set and tries to create sub-word units. For example, the word \"beautiful\" might be split into \"beau\" \"ti\" \"ful\". Each time it splits a word into sub-words, that is one operation. The final vocabulary output consists of these subwords. So \"ful\" can be part of \"beautiful\" and part of \"fruitful\" and so on.\n",
    "\n",
    "\n",
    "**Questions to ask yourself**:\n",
    "\n",
    "\n",
    "1.   Why is it important to keep the vocabulary space small?\n",
    "2.   What does perplexity measure? Why would we use it as a training objective? \n",
    "\n",
    "\n"
   ]
  },
  {
   "cell_type": "code",
   "execution_count": 0,
   "metadata": {
    "colab": {},
    "colab_type": "code",
    "collapsed": true,
    "id": "G4gNbbAugACx"
   },
   "outputs": [],
   "source": [
    "# !python ~/ParlAI/examples/train_model.py -m transformer/generator -t personachat -dt train -veps 0.25 --model-file persona_chat_generative_model -vmt ppl"
   ]
  },
  {
   "cell_type": "markdown",
   "metadata": {
    "colab_type": "text",
    "id": "fHpD0Ccb1zhd"
   },
   "source": [
    "## Final Thoughts"
   ]
  },
  {
   "cell_type": "markdown",
   "metadata": {
    "colab_type": "text",
    "id": "MHdsZ3Sq12n6"
   },
   "source": [
    "**What did we learn about dialogue modeling? Review Questions to ask yourself**\n",
    "\n",
    "*   How do retrieval models work? What about generative? What are their pros and cons?\n",
    "*   What are some important traits of dialogue systems? How might the traits differ for different dialogue tasks?\n",
    "\n",
    "\n",
    "**General Takeaways about Machine Learning and Experimentation:**\n",
    "\n",
    "*   We don't try models just to try them - try to have a reason for conducting an experiment. As we did in the lab, try to analyze what's working well in your models and working poorly. Try to use these reasons to guide why you might want to try other models. Complex is not necessarily better. \n",
    "*   Certain models can be better for certain tasks. As we've seen, generative models are working really well for tasks such as machine translation, but have a bit to go before becoming general purpose dialogue generators. \n",
    "\n",
    "\n",
    "\n",
    "**I'm really interested in dialogue! What can I do to learn more?**\n",
    "\n",
    "\n",
    "*   Play around in ParlAI: ParlAI is a general library with many great dialogue models and code for them. It also provides a standard interface to access datasets and interact with various models. \n",
    "*   Read the PersonaChat Paper: https://arxiv.org/pdf/1801.07243.pdf\n",
    "*   Dialog using knowledge: One challenge of these chit chat systems is they do not concretely know any facts. So if you want to chat about a specific topic, the models cannot produce any relevant information - they say generic utterances or incorrect facts. One way to remedy this is to incorporate **knowledge** into the dialogue agents. This has been investigated in many different ways, but one of the first papers to show this is https://arxiv.org/abs/1811.01241. In this work, data is collected by asking one speaker to reference Wikipedia sentences.\n",
    "* Dialog with BERT: pretty new,  there is an investigation of two ways to use BERT in this paper: https://arxiv.org/abs/1903.03094. \n",
    "\n",
    "\n"
   ]
  }
 ],
 "metadata": {
  "accelerator": "GPU",
  "colab": {
   "name": "ammi_dnlp_lab2.ipynb",
   "provenance": [],
   "toc_visible": true,
   "version": "0.3.2"
  },
  "kernelspec": {
   "display_name": "Python 3",
   "language": "python",
   "name": "python3"
  },
  "language_info": {
   "codemirror_mode": {
    "name": "ipython",
    "version": 3
   },
   "file_extension": ".py",
   "mimetype": "text/x-python",
   "name": "python",
   "nbconvert_exporter": "python",
   "pygments_lexer": "ipython3",
   "version": "3.5.3"
  }
 },
 "nbformat": 4,
 "nbformat_minor": 0
}
